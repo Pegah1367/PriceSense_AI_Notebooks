{
  "nbformat": 4,
  "nbformat_minor": 0,
  "metadata": {
    "colab": {
      "provenance": [],
      "machine_shape": "hm",
      "gpuType": "T4"
    },
    "kernelspec": {
      "name": "python3",
      "display_name": "Python 3"
    },
    "language_info": {
      "name": "python"
    },
    "accelerator": "GPU"
  },
  "cells": [
    {
      "cell_type": "code",
      "execution_count": 1,
      "metadata": {
        "colab": {
          "base_uri": "https://localhost:8080/"
        },
        "id": "H8Fl3FTU_IhV",
        "outputId": "e4f137f5-d876-4c57-8692-7669fa90d68e"
      },
      "outputs": [
        {
          "output_type": "stream",
          "name": "stdout",
          "text": [
            "Num GPUs Available: 1\n"
          ]
        }
      ],
      "source": [
        "import tensorflow as tf\n",
        "print(\"Num GPUs Available:\", len(tf.config.list_physical_devices('GPU')))\n",
        "# If 0, the code will run on CPU; if >=1, Colab likely has a GPU (e.g. T4) available.\n"
      ]
    },
    {
      "cell_type": "code",
      "source": [
        "import pandas as pd\n",
        "from sklearn.feature_extraction.text import TfidfVectorizer\n",
        "\n",
        "# 1️⃣ Read the data\n",
        "df = pd.read_csv('df_subset_20.csv')\n",
        "\n",
        "# 2️⃣ Clean the title column (remove NaN or convert them to empty strings)\n",
        "titles = df['title_clean'].fillna('')  # replaces NaN with empty string\n",
        "\n",
        "# 3️⃣ Create and fit the vectorizer\n",
        "tfidf = TfidfVectorizer(max_features=500)\n",
        "\n",
        "# 4️⃣ Transform titles\n",
        "X_text = tfidf.fit_transform(titles).toarray()  # (n_samples, 500)\n",
        "print(X_text.shape)\n",
        "\n"
      ],
      "metadata": {
        "colab": {
          "base_uri": "https://localhost:8080/"
        },
        "id": "5lmSCFYeBA5h",
        "outputId": "d5c2bac1-4366-4af4-d78e-b43afe7970ab"
      },
      "execution_count": 2,
      "outputs": [
        {
          "output_type": "stream",
          "name": "stdout",
          "text": [
            "(533295, 500)\n"
          ]
        }
      ]
    },
    {
      "cell_type": "code",
      "source": [
        "missing_titles = df[df['title_clean'].isna()]\n",
        "print(\"Missing titles:\", len(missing_titles))\n"
      ],
      "metadata": {
        "colab": {
          "base_uri": "https://localhost:8080/"
        },
        "id": "ZNzb0t8IBQJJ",
        "outputId": "b1620b39-b39b-4829-e59a-bd1c1712be00"
      },
      "execution_count": 3,
      "outputs": [
        {
          "output_type": "stream",
          "name": "stdout",
          "text": [
            "Missing titles: 2\n"
          ]
        }
      ]
    },
    {
      "cell_type": "code",
      "source": [
        "from sklearn.preprocessing import OneHotEncoder\n",
        "\n",
        "cat = df[['category']]\n",
        "ohe = OneHotEncoder(sparse_output=False)  # use sparse_output instead of sparse\n",
        "X_cat = ohe.fit_transform(cat)\n",
        "print(X_cat.shape)  # (n_samples, n_categories)\n",
        "\n"
      ],
      "metadata": {
        "colab": {
          "base_uri": "https://localhost:8080/"
        },
        "id": "KcqKO8-4BUWj",
        "outputId": "a8a72a52-e2c2-45dd-e74d-e559fa70eebe"
      },
      "execution_count": 4,
      "outputs": [
        {
          "output_type": "stream",
          "name": "stdout",
          "text": [
            "(533295, 266)\n"
          ]
        }
      ]
    },
    {
      "cell_type": "code",
      "source": [
        "from sklearn.preprocessing import OneHotEncoder\n",
        "\n",
        "cat = df[['category']]\n",
        "ohe = OneHotEncoder(sparse_output=False)   # ✅ correct for sklearn >= 1.2\n",
        "X_cat = ohe.fit_transform(cat)\n",
        "\n",
        "print(X_cat.shape)  # (n_samples, n_categories)\n",
        "\n",
        "\n"
      ],
      "metadata": {
        "colab": {
          "base_uri": "https://localhost:8080/"
        },
        "id": "T5AOCPCSBkkB",
        "outputId": "f5974f9b-f260-43b1-ea1f-c2107950fea6"
      },
      "execution_count": 5,
      "outputs": [
        {
          "output_type": "stream",
          "name": "stdout",
          "text": [
            "(533295, 266)\n"
          ]
        }
      ]
    },
    {
      "cell_type": "code",
      "source": [
        "import sklearn\n",
        "print(sklearn.__version__)\n"
      ],
      "metadata": {
        "colab": {
          "base_uri": "https://localhost:8080/"
        },
        "id": "T8thRzaIB1pU",
        "outputId": "493c9ce6-8ede-4f17-84c7-0de9d4b8e5a9"
      },
      "execution_count": 6,
      "outputs": [
        {
          "output_type": "stream",
          "name": "stdout",
          "text": [
            "1.6.1\n"
          ]
        }
      ]
    },
    {
      "cell_type": "code",
      "source": [
        "import numpy as np\n",
        "X = np.hstack([X_text, X_cat])  # final input features\n"
      ],
      "metadata": {
        "id": "vdJa9wkuCEPS"
      },
      "execution_count": 7,
      "outputs": []
    },
    {
      "cell_type": "code",
      "source": [
        "from sklearn.model_selection import train_test_split\n",
        "X_train, X_test, y_price_train, y_price_test, y_flag_train, y_flag_test = train_test_split(\n",
        "    X, df['price'], df['isBestSeller'], test_size=0.2, random_state=42)\n"
      ],
      "metadata": {
        "id": "LIr0FKFzCI2K"
      },
      "execution_count": 8,
      "outputs": []
    },
    {
      "cell_type": "code",
      "source": [
        "from tensorflow.keras.models import Model\n",
        "from tensorflow.keras.layers import Input, Dense\n",
        "\n",
        "# Define model architecture\n",
        "input_shape = X_train.shape[1]  # total number of features (text + category)\n",
        "inputs = Input(shape=(input_shape,), name='product_input')\n",
        "x = Dense(128, activation='relu')(inputs)\n",
        "x = Dense(64, activation='relu')(x)\n",
        "\n",
        "# Regression output (price)\n",
        "price_output = Dense(1, name='price_output')(x)   # linear by default\n",
        "\n",
        "# Classification output (bestseller flag)\n",
        "bestseller_output = Dense(1, activation='sigmoid', name='flag_output')(x)\n",
        "\n",
        "model = Model(inputs=inputs, outputs=[price_output, bestseller_output])\n",
        "\n",
        "# Compile with appropriate losses and metrics for each task\n",
        "model.compile(optimizer='adam',\n",
        "              loss={'price_output': 'mse', 'flag_output': 'binary_crossentropy'},\n",
        "              metrics={'price_output': 'mae', 'flag_output': 'accuracy'})\n"
      ],
      "metadata": {
        "id": "QRYaRvo6CMbi"
      },
      "execution_count": 9,
      "outputs": []
    },
    {
      "cell_type": "code",
      "source": [
        "# Prepare target dictionaries as required by Keras\n",
        "y_train_dict = {'price_output': y_price_train.values,\n",
        "                'flag_output':  y_flag_train.values}\n",
        "y_test_dict  = {'price_output': y_price_test.values,\n",
        "                'flag_output':  y_flag_test.values}\n",
        "\n",
        "# Train for a few epochs\n",
        "history = model.fit(X_train, y_train_dict,\n",
        "                    validation_data=(X_test, y_test_dict),\n",
        "                    epochs=20, batch_size=4)\n"
      ],
      "metadata": {
        "colab": {
          "base_uri": "https://localhost:8080/"
        },
        "id": "k8Btl4kJCS-i",
        "outputId": "1a3b140e-ded8-411b-8a70-9fe12a8afd37"
      },
      "execution_count": 10,
      "outputs": [
        {
          "output_type": "stream",
          "name": "stdout",
          "text": [
            "Epoch 1/20\n",
            "\u001b[1m106659/106659\u001b[0m \u001b[32m━━━━━━━━━━━━━━━━━━━━\u001b[0m\u001b[37m\u001b[0m \u001b[1m276s\u001b[0m 3ms/step - flag_output_accuracy: 0.9936 - flag_output_loss: 0.0393 - loss: 0.0396 - price_output_loss: 3.6670e-04 - price_output_mae: 0.0124 - val_flag_output_accuracy: 0.9940 - val_flag_output_loss: 0.0382 - val_loss: 0.0384 - val_price_output_loss: 1.7051e-04 - val_price_output_mae: 0.0095\n",
            "Epoch 2/20\n",
            "\u001b[1m106659/106659\u001b[0m \u001b[32m━━━━━━━━━━━━━━━━━━━━\u001b[0m\u001b[37m\u001b[0m \u001b[1m272s\u001b[0m 3ms/step - flag_output_accuracy: 0.9938 - flag_output_loss: 0.0373 - loss: 0.0376 - price_output_loss: 3.0337e-04 - price_output_mae: 0.0104 - val_flag_output_accuracy: 0.9940 - val_flag_output_loss: 0.0334 - val_loss: 0.0335 - val_price_output_loss: 1.2886e-04 - val_price_output_mae: 0.0064\n",
            "Epoch 3/20\n",
            "\u001b[1m106659/106659\u001b[0m \u001b[32m━━━━━━━━━━━━━━━━━━━━\u001b[0m\u001b[37m\u001b[0m \u001b[1m272s\u001b[0m 3ms/step - flag_output_accuracy: 0.9938 - flag_output_loss: 0.0368 - loss: 0.0370 - price_output_loss: 2.6757e-04 - price_output_mae: 0.0093 - val_flag_output_accuracy: 0.9940 - val_flag_output_loss: 0.0395 - val_loss: 0.0396 - val_price_output_loss: 9.7863e-05 - val_price_output_mae: 0.0036\n",
            "Epoch 4/20\n",
            "\u001b[1m106659/106659\u001b[0m \u001b[32m━━━━━━━━━━━━━━━━━━━━\u001b[0m\u001b[37m\u001b[0m \u001b[1m272s\u001b[0m 3ms/step - flag_output_accuracy: 0.9939 - flag_output_loss: 0.0368 - loss: 0.0370 - price_output_loss: 2.1328e-04 - price_output_mae: 0.0078 - val_flag_output_accuracy: 0.9940 - val_flag_output_loss: 0.0362 - val_loss: 0.0362 - val_price_output_loss: 8.4974e-05 - val_price_output_mae: 0.0025\n",
            "Epoch 5/20\n",
            "\u001b[1m106659/106659\u001b[0m \u001b[32m━━━━━━━━━━━━━━━━━━━━\u001b[0m\u001b[37m\u001b[0m \u001b[1m273s\u001b[0m 3ms/step - flag_output_accuracy: 0.9939 - flag_output_loss: 0.0367 - loss: 0.0370 - price_output_loss: 2.7778e-04 - price_output_mae: 0.0087 - val_flag_output_accuracy: 0.9940 - val_flag_output_loss: 0.0434 - val_loss: 0.0437 - val_price_output_loss: 2.8012e-04 - val_price_output_mae: 0.0087\n",
            "Epoch 6/20\n",
            "\u001b[1m106659/106659\u001b[0m \u001b[32m━━━━━━━━━━━━━━━━━━━━\u001b[0m\u001b[37m\u001b[0m \u001b[1m274s\u001b[0m 3ms/step - flag_output_accuracy: 0.9940 - flag_output_loss: 0.0349 - loss: 0.0352 - price_output_loss: 2.6241e-04 - price_output_mae: 0.0082 - val_flag_output_accuracy: 0.9940 - val_flag_output_loss: 0.0328 - val_loss: 0.0336 - val_price_output_loss: 7.9154e-04 - val_price_output_mae: 0.0252\n",
            "Epoch 7/20\n",
            "\u001b[1m106659/106659\u001b[0m \u001b[32m━━━━━━━━━━━━━━━━━━━━\u001b[0m\u001b[37m\u001b[0m \u001b[1m275s\u001b[0m 3ms/step - flag_output_accuracy: 0.9938 - flag_output_loss: 0.0358 - loss: 0.0360 - price_output_loss: 2.2889e-04 - price_output_mae: 0.0075 - val_flag_output_accuracy: 0.9940 - val_flag_output_loss: 0.0337 - val_loss: 0.0338 - val_price_output_loss: 1.5880e-04 - val_price_output_mae: 0.0041\n",
            "Epoch 8/20\n",
            "\u001b[1m106659/106659\u001b[0m \u001b[32m━━━━━━━━━━━━━━━━━━━━\u001b[0m\u001b[37m\u001b[0m \u001b[1m276s\u001b[0m 3ms/step - flag_output_accuracy: 0.9939 - flag_output_loss: 0.0343 - loss: 0.0346 - price_output_loss: 2.8119e-04 - price_output_mae: 0.0079 - val_flag_output_accuracy: 0.9940 - val_flag_output_loss: 0.0341 - val_loss: 0.0343 - val_price_output_loss: 1.6759e-04 - val_price_output_mae: 0.0073\n",
            "Epoch 9/20\n",
            "\u001b[1m106659/106659\u001b[0m \u001b[32m━━━━━━━━━━━━━━━━━━━━\u001b[0m\u001b[37m\u001b[0m \u001b[1m276s\u001b[0m 3ms/step - flag_output_accuracy: 0.9938 - flag_output_loss: 0.0348 - loss: 0.0351 - price_output_loss: 2.6201e-04 - price_output_mae: 0.0081 - val_flag_output_accuracy: 0.9940 - val_flag_output_loss: 0.0347 - val_loss: 0.0350 - val_price_output_loss: 3.2924e-04 - val_price_output_mae: 0.0137\n",
            "Epoch 10/20\n",
            "\u001b[1m106659/106659\u001b[0m \u001b[32m━━━━━━━━━━━━━━━━━━━━\u001b[0m\u001b[37m\u001b[0m \u001b[1m277s\u001b[0m 3ms/step - flag_output_accuracy: 0.9938 - flag_output_loss: 0.0362 - loss: 0.0365 - price_output_loss: 2.6262e-04 - price_output_mae: 0.0084 - val_flag_output_accuracy: 0.9940 - val_flag_output_loss: 0.0337 - val_loss: 0.0338 - val_price_output_loss: 1.1551e-04 - val_price_output_mae: 0.0033\n",
            "Epoch 11/20\n",
            "\u001b[1m106659/106659\u001b[0m \u001b[32m━━━━━━━━━━━━━━━━━━━━\u001b[0m\u001b[37m\u001b[0m \u001b[1m275s\u001b[0m 3ms/step - flag_output_accuracy: 0.9940 - flag_output_loss: 0.0338 - loss: 0.0341 - price_output_loss: 2.7995e-04 - price_output_mae: 0.0083 - val_flag_output_accuracy: 0.9940 - val_flag_output_loss: 0.0339 - val_loss: 0.0340 - val_price_output_loss: 1.0974e-04 - val_price_output_mae: 0.0033\n",
            "Epoch 12/20\n",
            "\u001b[1m106659/106659\u001b[0m \u001b[32m━━━━━━━━━━━━━━━━━━━━\u001b[0m\u001b[37m\u001b[0m \u001b[1m277s\u001b[0m 3ms/step - flag_output_accuracy: 0.9939 - flag_output_loss: 0.0343 - loss: 0.0346 - price_output_loss: 2.7045e-04 - price_output_mae: 0.0084 - val_flag_output_accuracy: 0.9940 - val_flag_output_loss: 0.0322 - val_loss: 0.0330 - val_price_output_loss: 7.9371e-04 - val_price_output_mae: 0.0247\n",
            "Epoch 13/20\n",
            "\u001b[1m106659/106659\u001b[0m \u001b[32m━━━━━━━━━━━━━━━━━━━━\u001b[0m\u001b[37m\u001b[0m \u001b[1m276s\u001b[0m 3ms/step - flag_output_accuracy: 0.9940 - flag_output_loss: 0.0337 - loss: 0.0340 - price_output_loss: 3.0383e-04 - price_output_mae: 0.0089 - val_flag_output_accuracy: 0.9940 - val_flag_output_loss: 0.0327 - val_loss: 0.0328 - val_price_output_loss: 1.3392e-04 - val_price_output_mae: 0.0022\n",
            "Epoch 14/20\n",
            "\u001b[1m106659/106659\u001b[0m \u001b[32m━━━━━━━━━━━━━━━━━━━━\u001b[0m\u001b[37m\u001b[0m \u001b[1m275s\u001b[0m 3ms/step - flag_output_accuracy: 0.9939 - flag_output_loss: 0.0345 - loss: 0.0348 - price_output_loss: 2.8586e-04 - price_output_mae: 0.0088 - val_flag_output_accuracy: 0.9940 - val_flag_output_loss: 0.0328 - val_loss: 0.0341 - val_price_output_loss: 0.0013 - val_price_output_mae: 0.0320\n",
            "Epoch 15/20\n",
            "\u001b[1m106659/106659\u001b[0m \u001b[32m━━━━━━━━━━━━━━━━━━━━\u001b[0m\u001b[37m\u001b[0m \u001b[1m276s\u001b[0m 3ms/step - flag_output_accuracy: 0.9938 - flag_output_loss: 0.0354 - loss: 0.0357 - price_output_loss: 3.0942e-04 - price_output_mae: 0.0092 - val_flag_output_accuracy: 0.9940 - val_flag_output_loss: 0.0326 - val_loss: 0.0327 - val_price_output_loss: 1.1961e-04 - val_price_output_mae: 0.0022\n",
            "Epoch 16/20\n",
            "\u001b[1m106659/106659\u001b[0m \u001b[32m━━━━━━━━━━━━━━━━━━━━\u001b[0m\u001b[37m\u001b[0m \u001b[1m276s\u001b[0m 3ms/step - flag_output_accuracy: 0.9937 - flag_output_loss: 0.0363 - loss: 0.0366 - price_output_loss: 2.8636e-04 - price_output_mae: 0.0088 - val_flag_output_accuracy: 0.9940 - val_flag_output_loss: 0.0334 - val_loss: 0.0336 - val_price_output_loss: 2.1848e-04 - val_price_output_mae: 0.0093\n",
            "Epoch 17/20\n",
            "\u001b[1m106659/106659\u001b[0m \u001b[32m━━━━━━━━━━━━━━━━━━━━\u001b[0m\u001b[37m\u001b[0m \u001b[1m275s\u001b[0m 3ms/step - flag_output_accuracy: 0.9938 - flag_output_loss: 0.0346 - loss: 0.0349 - price_output_loss: 2.9815e-04 - price_output_mae: 0.0089 - val_flag_output_accuracy: 0.9940 - val_flag_output_loss: 0.0340 - val_loss: 0.0341 - val_price_output_loss: 1.1708e-04 - val_price_output_mae: 0.0025\n",
            "Epoch 18/20\n",
            "\u001b[1m106659/106659\u001b[0m \u001b[32m━━━━━━━━━━━━━━━━━━━━\u001b[0m\u001b[37m\u001b[0m \u001b[1m275s\u001b[0m 3ms/step - flag_output_accuracy: 0.9939 - flag_output_loss: 0.0356 - loss: 0.0359 - price_output_loss: 2.6985e-04 - price_output_mae: 0.0088 - val_flag_output_accuracy: 0.9940 - val_flag_output_loss: 0.0330 - val_loss: 0.0337 - val_price_output_loss: 7.2877e-04 - val_price_output_mae: 0.0248\n",
            "Epoch 19/20\n",
            "\u001b[1m106659/106659\u001b[0m \u001b[32m━━━━━━━━━━━━━━━━━━━━\u001b[0m\u001b[37m\u001b[0m \u001b[1m275s\u001b[0m 3ms/step - flag_output_accuracy: 0.9940 - flag_output_loss: 0.0346 - loss: 0.0349 - price_output_loss: 2.8741e-04 - price_output_mae: 0.0090 - val_flag_output_accuracy: 0.9940 - val_flag_output_loss: 0.0333 - val_loss: 0.0339 - val_price_output_loss: 6.7977e-04 - val_price_output_mae: 0.0237\n",
            "Epoch 20/20\n",
            "\u001b[1m106659/106659\u001b[0m \u001b[32m━━━━━━━━━━━━━━━━━━━━\u001b[0m\u001b[37m\u001b[0m \u001b[1m275s\u001b[0m 3ms/step - flag_output_accuracy: 0.9940 - flag_output_loss: 0.0336 - loss: 0.0339 - price_output_loss: 3.0586e-04 - price_output_mae: 0.0093 - val_flag_output_accuracy: 0.9940 - val_flag_output_loss: 0.0351 - val_loss: 0.0352 - val_price_output_loss: 1.2752e-04 - val_price_output_mae: 0.0057\n"
          ]
        }
      ]
    },
    {
      "cell_type": "code",
      "source": [
        "losses = model.evaluate(X_test, y_test_dict)\n",
        "print(\"Test results:\", losses)\n"
      ],
      "metadata": {
        "colab": {
          "base_uri": "https://localhost:8080/"
        },
        "id": "2Heh3gAxCXO6",
        "outputId": "963e3f28-dad6-4606-af03-4b59107aac1c"
      },
      "execution_count": 11,
      "outputs": [
        {
          "output_type": "stream",
          "name": "stdout",
          "text": [
            "\u001b[1m3334/3334\u001b[0m \u001b[32m━━━━━━━━━━━━━━━━━━━━\u001b[0m\u001b[37m\u001b[0m \u001b[1m7s\u001b[0m 2ms/step - flag_output_accuracy: 0.9943 - flag_output_loss: 0.0331 - loss: 0.0333 - price_output_loss: 1.2710e-04 - price_output_mae: 0.0057\n",
            "Test results: [0.03521221503615379, 0.00012749037705361843, 0.03507595136761665, 0.9940370917320251, 0.005714695435017347]\n"
          ]
        }
      ]
    },
    {
      "cell_type": "code",
      "source": [
        "# Average price per category\n",
        "avg_price_by_cat = df.groupby('category')['price'].mean()\n",
        "\n",
        "# Average monthly sales per category\n",
        "avg_sales_by_cat = df.groupby('category')['boughtInLastMonth'].mean()\n",
        "\n",
        "# Bestseller ratio per category (percentage)\n",
        "bestseller_ratio = df.groupby('category')['isBestSeller'].mean() * 100\n"
      ],
      "metadata": {
        "id": "qc5iVxH0JgHK"
      },
      "execution_count": 12,
      "outputs": []
    },
    {
      "cell_type": "code",
      "source": [
        "# === Inference utilities ===\n",
        "import numpy as np\n",
        "\n",
        "def _prep_single(title: str, category: str):\n",
        "    # match training preproc: lowercase & strip for safety\n",
        "    t = [str(title).strip().lower()]\n",
        "    c = np.array([[str(category).strip()]])  # 2D for OneHotEncoder\n",
        "    Xt = tfidf.transform(t).toarray()\n",
        "    Xc = ohe.transform(c)                    # uses the *fitted* ohe\n",
        "    Xn = np.hstack([Xt, Xc])\n",
        "    return Xn\n",
        "\n",
        "def predict_one(title: str, category: str, thr: float = 0.5):\n",
        "    Xn = _prep_single(title, category)\n",
        "    pred_price, pred_flag = model.predict(Xn, verbose=0)\n",
        "    price = float(pred_price[0][0])\n",
        "    prob  = float(pred_flag[0][0])\n",
        "    is_best = (prob >= thr)\n",
        "    return price, prob, is_best\n"
      ],
      "metadata": {
        "id": "JeDgs-4dJje8"
      },
      "execution_count": 13,
      "outputs": []
    },
    {
      "cell_type": "code",
      "source": [
        "sample_title = (\"uxcell M6 x 1.0 Spiral Flute Thread Tap, Metric Machine Threading Tap HSS Nitriding Coated, Round Shank with Square End, H2 Tolerance, 2pcs\")\n",
        "sample_category = \"Hand Tools\"   # change if your true category label is different\n",
        "\n",
        "p_price, p_prob, p_isbest = predict_one(sample_title, sample_category)\n",
        "print(\"— DEMO —\")\n",
        "print(\"Category:\", sample_category)\n",
        "print(f\"Predicted Price: ${p_price:,.2f}\")\n",
        "print(f\"Bestseller Probability: {p_prob:.3f}\")\n",
        "print(\"Bestseller?:\", \"YES ✅\" if p_isbest else \"NO ❌\")\n"
      ],
      "metadata": {
        "colab": {
          "base_uri": "https://localhost:8080/"
        },
        "id": "hIqN7w-PZwpC",
        "outputId": "a8d0a532-f50a-4c25-e5a8-4cef37b9c24e"
      },
      "execution_count": 21,
      "outputs": [
        {
          "output_type": "stream",
          "name": "stdout",
          "text": [
            "— DEMO —\n",
            "Category: Hand Tools\n",
            "Predicted Price: $0.01\n",
            "Bestseller Probability: 0.001\n",
            "Bestseller?: NO ❌\n"
          ]
        },
        {
          "output_type": "stream",
          "name": "stderr",
          "text": [
            "/usr/local/lib/python3.12/dist-packages/sklearn/utils/validation.py:2739: UserWarning: X does not have valid feature names, but OneHotEncoder was fitted with feature names\n",
            "  warnings.warn(\n"
          ]
        }
      ]
    },
    {
      "cell_type": "code",
      "source": [
        "def predict_batch(titles: list, categories: list, thr: float = 0.5):\n",
        "    Xt = tfidf.transform([t.strip().lower() for t in titles]).toarray()\n",
        "    Xc = ohe.transform(np.array([[c] for c in categories]))\n",
        "    Xn = np.hstack([Xt, Xc])\n",
        "    pred_price, pred_flag = model.predict(Xn, verbose=0)\n",
        "    probs = pred_flag.ravel()\n",
        "    isbest = (probs >= thr).astype(int)\n",
        "    return pred_price.ravel(), probs, isbest\n",
        "\n",
        "# Example usage:\n",
        "# prices, probs, flags = predict_batch(df.sample(5)['title_clean'].tolist(),\n",
        "#                                      df.sample(5)['category'].tolist())\n"
      ],
      "metadata": {
        "id": "kCRxrB6lZ--c"
      },
      "execution_count": 15,
      "outputs": []
    },
    {
      "cell_type": "code",
      "source": [
        "from sklearn.metrics import classification_report, mean_absolute_error\n",
        "\n",
        "# classification metrics\n",
        "y_prob = model.predict(X_test, verbose=0)[1].ravel()\n",
        "y_hat  = (y_prob >= 0.5).astype(int)\n",
        "print(\"\\n— Bestseller (flag) on holdout —\")\n",
        "print(classification_report(y_flag_test.astype(int), y_hat, digits=3))\n",
        "\n",
        "# regression MAE\n",
        "y_pred_price = model.predict(X_test, verbose=0)[0].ravel()\n",
        "mae = mean_absolute_error(y_price_test, y_pred_price)\n",
        "print(f\"— Price MAE on holdout: {mae:,.4f}\")\n"
      ],
      "metadata": {
        "colab": {
          "base_uri": "https://localhost:8080/"
        },
        "id": "COWSoFiUaB8P",
        "outputId": "95257197-92e0-480b-a88d-10202c63704a"
      },
      "execution_count": 16,
      "outputs": [
        {
          "output_type": "stream",
          "name": "stdout",
          "text": [
            "\n",
            "— Bestseller (flag) on holdout —\n",
            "              precision    recall  f1-score   support\n",
            "\n",
            "           0      0.994     1.000     0.997    106023\n",
            "           1      0.000     0.000     0.000       636\n",
            "\n",
            "    accuracy                          0.994    106659\n",
            "   macro avg      0.497     0.500     0.499    106659\n",
            "weighted avg      0.988     0.994     0.991    106659\n",
            "\n"
          ]
        },
        {
          "output_type": "stream",
          "name": "stderr",
          "text": [
            "/usr/local/lib/python3.12/dist-packages/sklearn/metrics/_classification.py:1565: UndefinedMetricWarning: Precision is ill-defined and being set to 0.0 in labels with no predicted samples. Use `zero_division` parameter to control this behavior.\n",
            "  _warn_prf(average, modifier, f\"{metric.capitalize()} is\", len(result))\n",
            "/usr/local/lib/python3.12/dist-packages/sklearn/metrics/_classification.py:1565: UndefinedMetricWarning: Precision is ill-defined and being set to 0.0 in labels with no predicted samples. Use `zero_division` parameter to control this behavior.\n",
            "  _warn_prf(average, modifier, f\"{metric.capitalize()} is\", len(result))\n",
            "/usr/local/lib/python3.12/dist-packages/sklearn/metrics/_classification.py:1565: UndefinedMetricWarning: Precision is ill-defined and being set to 0.0 in labels with no predicted samples. Use `zero_division` parameter to control this behavior.\n",
            "  _warn_prf(average, modifier, f\"{metric.capitalize()} is\", len(result))\n"
          ]
        },
        {
          "output_type": "stream",
          "name": "stdout",
          "text": [
            "— Price MAE on holdout: 0.0057\n"
          ]
        }
      ]
    },
    {
      "cell_type": "code",
      "source": [
        "import joblib, os\n",
        "os.makedirs(\"artifacts\", exist_ok=True)\n",
        "\n",
        "model.save(\"artifacts/mtl_ffnn.keras\")     # Keras model\n",
        "joblib.dump(tfidf, \"artifacts/tfidf.pkl\")  # text vectorizer\n",
        "joblib.dump(ohe,   \"artifacts/ohe.pkl\")    # category encoder\n",
        "\n",
        "print(\"Saved to ./artifacts\")\n"
      ],
      "metadata": {
        "colab": {
          "base_uri": "https://localhost:8080/"
        },
        "id": "ZG4b4zaTaHF7",
        "outputId": "58387363-2dd6-4e2f-9845-f3fbf316d202"
      },
      "execution_count": 17,
      "outputs": [
        {
          "output_type": "stream",
          "name": "stdout",
          "text": [
            "Saved to ./artifacts\n"
          ]
        }
      ]
    },
    {
      "cell_type": "code",
      "source": [],
      "metadata": {
        "id": "9In9VbjTeMRa"
      },
      "execution_count": 25,
      "outputs": []
    }
  ]
}